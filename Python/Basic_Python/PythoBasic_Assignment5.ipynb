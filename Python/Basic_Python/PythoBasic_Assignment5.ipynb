{
  "nbformat": 4,
  "nbformat_minor": 0,
  "metadata": {
    "colab": {
      "name": "PythoBasic_Assignment5.ipynb",
      "provenance": [],
      "collapsed_sections": []
    },
    "kernelspec": {
      "name": "python3",
      "display_name": "Python 3"
    },
    "language_info": {
      "name": "python"
    }
  },
  "cells": [
    {
      "cell_type": "markdown",
      "source": [
        "### Assignment 5 Solutions\n",
        "\n",
        "\n",
        "**Submitted by: Rajesh S**"
      ],
      "metadata": {
        "id": "KMaHqyzZKESU"
      }
    },
    {
      "cell_type": "markdown",
      "source": [
        "**1. What does an empty dictionary code look like?**\n",
        "\n",
        "__Ans__: An empty dictionary is represented as two curly braces {}\n",
        "  \n",
        "  d = {} or d = dict()"
      ],
      "metadata": {
        "id": "G0IKot9jIY0k"
      }
    },
    {
      "cell_type": "code",
      "source": [
        "# Python3 code to demonstrate use of\n",
        "# {} symbol to initialize dictionary\n",
        "emptyDict = {}\n",
        "\n",
        "# print dictionary\n",
        "print(emptyDict)\n",
        "\n",
        "# print length of dictionary\n",
        "print(\"Length:\", len(emptyDict))\n",
        "\n",
        "# print type\n",
        "print(type(emptyDict))\n"
      ],
      "metadata": {
        "colab": {
          "base_uri": "https://localhost:8080/"
        },
        "id": "7F9WUh8TKlC1",
        "outputId": "b115667b-e6f9-4ae4-85bd-6941215fc860"
      },
      "execution_count": 1,
      "outputs": [
        {
          "output_type": "stream",
          "name": "stdout",
          "text": [
            "{}\n",
            "Length: 0\n",
            "<class 'dict'>\n"
          ]
        }
      ]
    },
    {
      "cell_type": "markdown",
      "source": [
        "**Method 2 :Use of dict() built-in function**"
      ],
      "metadata": {
        "id": "vgSMWRaeK_UO"
      }
    },
    {
      "cell_type": "code",
      "source": [
        "# Python3 code to demonstrate use of\n",
        "# dict() built-in function to\n",
        "# initialize dictionary\n",
        "emptyDict = dict()\n",
        "\n",
        "# print dictionary\n",
        "print(emptyDict)\n",
        "\n",
        "# print length of dictionary\n",
        "print(\"Length:\",len(emptyDict))\n",
        "\n",
        "# print type\n",
        "print(type(emptyDict))\n"
      ],
      "metadata": {
        "colab": {
          "base_uri": "https://localhost:8080/"
        },
        "id": "RBjHNxiVLC03",
        "outputId": "4064579b-00e1-4eca-95b1-7ad3bfb87fa8"
      },
      "execution_count": 2,
      "outputs": [
        {
          "output_type": "stream",
          "name": "stdout",
          "text": [
            "{}\n",
            "Length: 0\n",
            "<class 'dict'>\n"
          ]
        }
      ]
    },
    {
      "cell_type": "markdown",
      "source": [
        "**2. What is the value of a dictionary value with the key &#39;foo&#39; and the value 42?**"
      ],
      "metadata": {
        "id": "ffFAEdJhLTWM"
      }
    },
    {
      "cell_type": "code",
      "source": [
        "dic = {'foo' : 42}"
      ],
      "metadata": {
        "id": "i2m_8JDZLV06"
      },
      "execution_count": 3,
      "outputs": []
    },
    {
      "cell_type": "code",
      "source": [
        "dic['foo']"
      ],
      "metadata": {
        "colab": {
          "base_uri": "https://localhost:8080/"
        },
        "id": "onrRtUNSLoy3",
        "outputId": "fe13e3b9-fdd4-4de8-8e73-638eefa5a96f"
      },
      "execution_count": 7,
      "outputs": [
        {
          "output_type": "execute_result",
          "data": {
            "text/plain": [
              "42"
            ]
          },
          "metadata": {},
          "execution_count": 7
        }
      ]
    },
    {
      "cell_type": "markdown",
      "source": [
        "**3.What is the most significant distinction between a dictionary and a list?**"
      ],
      "metadata": {
        "id": "YiotcVKcMDkK"
      }
    },
    {
      "cell_type": "markdown",
      "source": [
        "__Ans__: Dictinary are represented by {} where as list are represented by []. The items in dictionary are stored in unordered , while the items in list are stored in sequential manner.<br>\n",
        "Lists are just like the arrays, declared in other languages. Lists need not be homogeneous always which makes it a most powerful tool in Python. A single list may contain DataTypes like Integers, Strings, as well as Objects. Lists are mutable, and hence, they can be altered even after their creation.<br>\n",
        "\n",
        "Dictionary in Python on the other hand is an unordered collection of data values, used to store data values like a map, which unlike other Data Types that hold only single value as an element, Dictionary holds key:value pair. Key-value is provided in the dictionary to make it more optimized. Each key-value pair in a Dictionary is separated by a colon :, whereas each key is separated by a ‘comma’."
      ],
      "metadata": {
        "id": "JUfwV3lMMmRC"
      }
    },
    {
      "cell_type": "code",
      "source": [
        "# Python program to demonstrate\n",
        "# Lists\n",
        "\n",
        "\n",
        "# Creating a List with\n",
        "# the use of multiple values\n",
        "List = [\"python\", \"SQL\", \"Tableau\"]\n",
        "print(\"List containing multiple values: \")\n",
        "print(List[0])\n",
        "print(List[1])\n",
        "print(List[2])\n",
        "\n",
        "# Creating a Multi-Dimensional List\n",
        "# (By Nesting a list inside a List)\n",
        "lang = [['python', 'SQL'] , ['Tableau']]\n",
        "print(\"\\nMulti-Dimensional List: \")\n",
        "\n",
        "print(lang)\n"
      ],
      "metadata": {
        "colab": {
          "base_uri": "https://localhost:8080/"
        },
        "id": "JDNT66KeN4zG",
        "outputId": "d4a2e206-662a-4d86-e718-b72c32015d14"
      },
      "execution_count": 11,
      "outputs": [
        {
          "output_type": "stream",
          "name": "stdout",
          "text": [
            "List containing multiple values: \n",
            "python\n",
            "SQL\n",
            "Tableau\n",
            "\n",
            "Multi-Dimensional List: \n",
            "[['python', 'SQL'], ['Tableau']]\n"
          ]
        }
      ]
    },
    {
      "cell_type": "code",
      "source": [
        "# with Integer Keys\n",
        "domain = {1: 'DL', 2: 'ML', 3: 'CV'}\n",
        "print(\"Dictionary with the use of Integer Keys: \")\n",
        "print(domain[1])\n",
        "#print(domain)\n",
        "\n",
        "\n",
        "# with Mixed keys\n",
        "bio_det = {'Name': 'Rajesh', 1: [5, 4, 1988]}\n",
        "print(\"\\nDictionary with the use of Mixed Keys: \")\n",
        "print(bio_det)\n",
        "\n"
      ],
      "metadata": {
        "colab": {
          "base_uri": "https://localhost:8080/"
        },
        "id": "5USm_o7mOdQp",
        "outputId": "c2257fa1-9cc0-4df2-9398-720074964d5a"
      },
      "execution_count": 19,
      "outputs": [
        {
          "output_type": "stream",
          "name": "stdout",
          "text": [
            "Dictionary with the use of Integer Keys: \n",
            "DL\n",
            "\n",
            "Dictionary with the use of Mixed Keys: \n",
            "{'Name': 'Rajesh', 1: [5, 4, 1988]}\n"
          ]
        }
      ]
    },
    {
      "cell_type": "markdown",
      "source": [
        "**4. What happens if you try to access spam[&#39;foo&#39;] if spam is {&#39;bar&#39;: 100}?**"
      ],
      "metadata": {
        "id": "9DjAnktzRK-i"
      }
    },
    {
      "cell_type": "code",
      "source": [
        "spam = {'bar': 100}\n",
        "spam ['foo']"
      ],
      "metadata": {
        "colab": {
          "base_uri": "https://localhost:8080/",
          "height": 183
        },
        "id": "oULpRAu4RPQT",
        "outputId": "0b92ac52-11c6-4608-8a61-2a01e6b7d27d"
      },
      "execution_count": 22,
      "outputs": [
        {
          "output_type": "error",
          "ename": "KeyError",
          "evalue": "ignored",
          "traceback": [
            "\u001b[0;31m---------------------------------------------------------------------------\u001b[0m",
            "\u001b[0;31mKeyError\u001b[0m                                  Traceback (most recent call last)",
            "\u001b[0;32m<ipython-input-22-642d3309ed9c>\u001b[0m in \u001b[0;36m<module>\u001b[0;34m()\u001b[0m\n\u001b[1;32m      1\u001b[0m \u001b[0mspam\u001b[0m \u001b[0;34m=\u001b[0m \u001b[0;34m{\u001b[0m\u001b[0;34m'bar'\u001b[0m\u001b[0;34m:\u001b[0m \u001b[0;36m100\u001b[0m\u001b[0;34m}\u001b[0m\u001b[0;34m\u001b[0m\u001b[0;34m\u001b[0m\u001b[0m\n\u001b[0;32m----> 2\u001b[0;31m \u001b[0mspam\u001b[0m \u001b[0;34m[\u001b[0m\u001b[0;34m'foo'\u001b[0m\u001b[0;34m]\u001b[0m\u001b[0;34m\u001b[0m\u001b[0;34m\u001b[0m\u001b[0m\n\u001b[0m",
            "\u001b[0;31mKeyError\u001b[0m: 'foo'"
          ]
        }
      ]
    },
    {
      "cell_type": "markdown",
      "source": [
        "for the incorrect key, we got the error."
      ],
      "metadata": {
        "id": "Vse8BDQoRgL3"
      }
    },
    {
      "cell_type": "code",
      "source": [
        ""
      ],
      "metadata": {
        "id": "t5A1tcupR9ay"
      },
      "execution_count": null,
      "outputs": []
    },
    {
      "cell_type": "markdown",
      "source": [
        "5. **If a dictionary is stored in spam, what is the difference between the expressions &#39;cat&#39; in spam and\n",
        "&#39;cat&#39; in spam.keys()?**"
      ],
      "metadata": {
        "id": "GdceQTlSR_vT"
      }
    },
    {
      "cell_type": "markdown",
      "source": [
        "__Ans:__ There is no difference . The operator checks whether a value exits as a key in the dictionary or not."
      ],
      "metadata": {
        "id": "4-5YFD7cUKIq"
      }
    },
    {
      "cell_type": "markdown",
      "source": [
        "**6. If a dictionary is stored in spam, what is the difference between the expressions 'cat' in spam and 'cat' in spam.values()?**"
      ],
      "metadata": {
        "id": "NIAPN_UeU_i6"
      }
    },
    {
      "cell_type": "markdown",
      "source": [
        "__Ans:__ 'cat' in spam checks whether there is a 'cat' key in the dictionary, while 'cat' in spam.values() checks whether there is a value 'cat' for one of the keys in spam."
      ],
      "metadata": {
        "id": "N0prui8kVr6v"
      }
    },
    {
      "cell_type": "markdown",
      "source": [
        "**7.what is a shortcut for the following code ?**"
      ],
      "metadata": {
        "id": "57xtA83KV33M"
      }
    },
    {
      "cell_type": "markdown",
      "source": [
        "if 'color' not in spam:\n",
        "    spam['color'] ='black'\n",
        "\n",
        "Ans: spam.setdefault('color','black')"
      ],
      "metadata": {
        "id": "HdLt1qTrXydS"
      }
    },
    {
      "cell_type": "code",
      "source": [
        "if 'color' not in spam: spam['color'] ='black'\n",
        "\n",
        "spam.setdefault('color','black')"
      ],
      "metadata": {
        "colab": {
          "base_uri": "https://localhost:8080/",
          "height": 35
        },
        "id": "s2Nha0O_Xkot",
        "outputId": "506bd980-e976-437b-f3ec-2b5c905ece44"
      },
      "execution_count": 27,
      "outputs": [
        {
          "output_type": "execute_result",
          "data": {
            "text/plain": [
              "'black'"
            ],
            "application/vnd.google.colaboratory.intrinsic+json": {
              "type": "string"
            }
          },
          "metadata": {},
          "execution_count": 27
        }
      ]
    },
    {
      "cell_type": "markdown",
      "source": [
        "**8.How do you 'pretty print' dictionary values using which modules and function ?**"
      ],
      "metadata": {
        "id": "X3Y4vo7AYA-A"
      }
    },
    {
      "cell_type": "markdown",
      "source": [
        "Ans: we can pretty print a dictionary using three functions\n",
        "\n",
        "1. by using pprint() function of pprint module\n",
        "2. Note: pprint() function doesnot prettify nested dictionaries\n",
        "3.by using dumps() method of json module<br>\n",
        "4. by using dumps() method of yaml module"
      ],
      "metadata": {
        "id": "29e_r_PmYP4i"
      }
    },
    {
      "cell_type": "code",
      "source": [
        "ndict = [\n",
        "  {'Name': 'Rajesh', 'Age': 35, 'Residence': {'Country':'Bangladesh', 'City': 'Dhaka'}},\n",
        "  {'Name': 'Krish', 'Age': 31, 'Residence': {'Country':'Spain', 'City': 'Madrid'}},\n",
        "  {'Name': 'Esha', 'Age': 25, 'Residence': {'Country':'UK', 'City': 'England'}},\n",
        "  {'Name': 'Papa', 'Age': 50, 'Residence': {'Country':'Japan', 'City': 'Osaka'}}\n",
        "]\n",
        "\n",
        "print('Printing using print() function\\n',ndict)\n",
        "print('-'*70)\n",
        "import pprint\n",
        "print('Printing using pprint() funciton')\n",
        "pprint.pprint(ndict)\n",
        "print('-'*70)\n",
        "import json\n",
        "dump = json.dumps(ndict, indent=4)\n",
        "print('Printing using dumps() method\\n', dump)\n",
        "print('-'*70)\n",
        "import yaml\n",
        "dump = yaml.dump(ndict)\n",
        "print('Printing using dump() method\\n', dump)"
      ],
      "metadata": {
        "colab": {
          "base_uri": "https://localhost:8080/"
        },
        "id": "ny4qldx4Y1C3",
        "outputId": "a56bdaec-22f4-40c2-f7c1-2eb942cd0438"
      },
      "execution_count": 29,
      "outputs": [
        {
          "output_type": "stream",
          "name": "stdout",
          "text": [
            "Printing using print() function\n",
            " [{'Name': 'Rajesh', 'Age': 35, 'Residence': {'Country': 'Bangladesh', 'City': 'Dhaka'}}, {'Name': 'Krish', 'Age': 31, 'Residence': {'Country': 'Spain', 'City': 'Madrid'}}, {'Name': 'Esha', 'Age': 25, 'Residence': {'Country': 'UK', 'City': 'England'}}, {'Name': 'Papa', 'Age': 50, 'Residence': {'Country': 'Japan', 'City': 'Osaka'}}]\n",
            "----------------------------------------------------------------------\n",
            "Printing using pprint() funciton\n",
            "[{'Age': 35,\n",
            "  'Name': 'Rajesh',\n",
            "  'Residence': {'City': 'Dhaka', 'Country': 'Bangladesh'}},\n",
            " {'Age': 31,\n",
            "  'Name': 'Krish',\n",
            "  'Residence': {'City': 'Madrid', 'Country': 'Spain'}},\n",
            " {'Age': 25, 'Name': 'Esha', 'Residence': {'City': 'England', 'Country': 'UK'}},\n",
            " {'Age': 50,\n",
            "  'Name': 'Papa',\n",
            "  'Residence': {'City': 'Osaka', 'Country': 'Japan'}}]\n",
            "----------------------------------------------------------------------\n",
            "Printing using dumps() method\n",
            " [\n",
            "    {\n",
            "        \"Name\": \"Rajesh\",\n",
            "        \"Age\": 35,\n",
            "        \"Residence\": {\n",
            "            \"Country\": \"Bangladesh\",\n",
            "            \"City\": \"Dhaka\"\n",
            "        }\n",
            "    },\n",
            "    {\n",
            "        \"Name\": \"Krish\",\n",
            "        \"Age\": 31,\n",
            "        \"Residence\": {\n",
            "            \"Country\": \"Spain\",\n",
            "            \"City\": \"Madrid\"\n",
            "        }\n",
            "    },\n",
            "    {\n",
            "        \"Name\": \"Esha\",\n",
            "        \"Age\": 25,\n",
            "        \"Residence\": {\n",
            "            \"Country\": \"UK\",\n",
            "            \"City\": \"England\"\n",
            "        }\n",
            "    },\n",
            "    {\n",
            "        \"Name\": \"Papa\",\n",
            "        \"Age\": 50,\n",
            "        \"Residence\": {\n",
            "            \"Country\": \"Japan\",\n",
            "            \"City\": \"Osaka\"\n",
            "        }\n",
            "    }\n",
            "]\n",
            "----------------------------------------------------------------------\n",
            "Printing using dump() method\n",
            " - Age: 35\n",
            "  Name: Rajesh\n",
            "  Residence: {City: Dhaka, Country: Bangladesh}\n",
            "- Age: 31\n",
            "  Name: Krish\n",
            "  Residence: {City: Madrid, Country: Spain}\n",
            "- Age: 25\n",
            "  Name: Esha\n",
            "  Residence: {City: England, Country: UK}\n",
            "- Age: 50\n",
            "  Name: Papa\n",
            "  Residence: {City: Osaka, Country: Japan}\n",
            "\n"
          ]
        }
      ]
    },
    {
      "cell_type": "code",
      "source": [
        ""
      ],
      "metadata": {
        "id": "IHFiwFeIZYaf"
      },
      "execution_count": null,
      "outputs": []
    }
  ]
}