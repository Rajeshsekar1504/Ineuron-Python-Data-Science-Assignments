{
 "cells": [
  {
   "cell_type": "markdown",
   "id": "a987745c",
   "metadata": {},
   "source": [
    "# Assignment 2 Solutions"
   ]
  },
  {
   "cell_type": "markdown",
   "id": "cd70dd7d",
   "metadata": {},
   "source": [
    "SUBMITTED BY: Rajesh S"
   ]
  },
  {
   "cell_type": "markdown",
   "id": "834cb18a",
   "metadata": {},
   "source": [
    " 1.What are the two values of the boolean data types? how do you write them ?"
   ]
  },
  {
   "cell_type": "markdown",
   "id": "49685a30",
   "metadata": {},
   "source": [
    " Two values of the boolen data types are True and False. We have to use capital T and F and with the rest of the word in lowercase. The type() of both False and True is bool.\n",
    "  The type bool is built in, meaning it’s always available in Python and doesn’t need to be imported. However, the name itself isn’t a keyword in the language."
   ]
  },
  {
   "cell_type": "code",
   "execution_count": 1,
   "id": "e557a2b4",
   "metadata": {},
   "outputs": [
    {
     "name": "stdout",
     "output_type": "stream",
     "text": [
      "True <class 'bool'>\n",
      "False <class 'bool'>\n"
     ]
    }
   ],
   "source": [
    "r = True\n",
    "s = False\n",
    "print(r,type(r))\n",
    "print(s, type(s))"
   ]
  },
  {
   "cell_type": "markdown",
   "id": "14369e6b",
   "metadata": {},
   "source": [
    "2. What are the three different types of Boolean operators?"
   ]
  },
  {
   "cell_type": "markdown",
   "id": "07ede523",
   "metadata": {},
   "source": [
    "Boolean operators form the basis of mathematical\n",
    "sets and database logic.They connect our search\n",
    "words together to either narrow or broaden our set\n",
    "of results.\n",
    "Three different types of Boolean operators in python\n",
    "are:\n",
    "    and, or, not \n",
    "    example: a>50 and b>50"
   ]
  },
  {
   "cell_type": "code",
   "execution_count": 2,
   "id": "368f4ad9",
   "metadata": {},
   "outputs": [
    {
     "name": "stdout",
     "output_type": "stream",
     "text": [
      "True\n",
      "True\n",
      "False\n"
     ]
    }
   ],
   "source": [
    "a = 1000\n",
    "b = 2000\n",
    "print(a > 600 and b > 1000)\n",
    "print(a >200 or b > 1000)\n",
    "print(not(a>11))"
   ]
  },
  {
   "cell_type": "markdown",
   "id": "895d4392",
   "metadata": {},
   "source": [
    "3. Make a list of each Boolean operator's truth tables \n",
    "(i.e. every possible combination of Boolean values for\n",
    "the operator and what it evaluate)"
   ]
  },
  {
   "cell_type": "markdown",
   "id": "6b4bc4f6",
   "metadata": {},
   "source": [
    "The Truth tables for the boolean tables are:"
   ]
  },
  {
   "cell_type": "raw",
   "id": "7e67d3ba",
   "metadata": {},
   "source": [
    "# - Truth table for and operator\n",
    " \n",
    " True and True--> True\n",
    " True and False-->False\n",
    " False and True-->False\n",
    " False and False-->False"
   ]
  },
  {
   "cell_type": "raw",
   "id": "377e0bf2",
   "metadata": {},
   "source": [
    "- Truth table for or operator\n",
    "True or True--> True\n",
    "True or False--> True\n",
    "False or True--> True\n",
    "False or False--> False"
   ]
  },
  {
   "cell_type": "raw",
   "id": "6ed92b71",
   "metadata": {},
   "source": [
    "-Truth Table for not operator\n",
    "True not--> False False not--> True"
   ]
  },
  {
   "cell_type": "markdown",
   "id": "70a891f3",
   "metadata": {},
   "source": [
    "4. What are the values of the following expressions?\n",
    "- (5 > 4) and (3 == 5)\n",
    "- not (5 > 4)\n",
    "-  (5 > 4) or (3 == 5)\n",
    "- not ((5 > 4) or (3 == 5))\n",
    "- (True and True) and (True == False)\n",
    "- (not False) or (not True)"
   ]
  },
  {
   "cell_type": "code",
   "execution_count": 6,
   "id": "955d0d88",
   "metadata": {},
   "outputs": [
    {
     "name": "stdout",
     "output_type": "stream",
     "text": [
      "False\n",
      "False\n",
      "True\n",
      "False\n",
      "False\n",
      "True\n"
     ]
    }
   ],
   "source": [
    "print((5>4)and(3==5))  # False\n",
    "print(not(5>4))  # False\n",
    "print((5>4)or(3==5))  # True\n",
    "print(not((5>4)or(3==5)))  # False\n",
    "print((True and True)and(True==False))  # False\n",
    "print((not False)or(not True))  # True"
   ]
  },
  {
   "cell_type": "markdown",
   "id": "1afed358",
   "metadata": {},
   "source": [
    "#### 5. What are the six comparison operators?"
   ]
  },
  {
   "cell_type": "markdown",
   "id": "cb366e52",
   "metadata": {},
   "source": [
    "The Six Comparison Operators available in python are:\n",
    "==,  != ,  < ,  > ,  <=,  =>"
   ]
  },
  {
   "cell_type": "markdown",
   "id": "71948fbf",
   "metadata": {},
   "source": [
    "#### 6. How do you tell the difference between the equal to and assignment operators? Describe a condition and when you would use one?"
   ]
  },
  {
   "cell_type": "markdown",
   "id": "a67d49d3",
   "metadata": {},
   "source": [
    " == is the equal to operator that compares two values\n",
    "and evalutes to a Boolean, while = is that assignment\n",
    "operator that stores a value in a variable."
   ]
  },
  {
   "cell_type": "code",
   "execution_count": 10,
   "id": "ed1d78c7",
   "metadata": {},
   "outputs": [
    {
     "name": "stdout",
     "output_type": "stream",
     "text": [
      "False\n"
     ]
    }
   ],
   "source": [
    "b = 10  #Assigning value 10 to variable b.\n",
    "if b == 10:  #comparing values of a variable b\n",
    "    print(b == 3)\n"
   ]
  },
  {
   "cell_type": "markdown",
   "id": "fe8438bb",
   "metadata": {},
   "source": [
    "#### 7. Identify the three blocks in this code:\n"
   ]
  },
  {
   "cell_type": "raw",
   "id": "a2040309",
   "metadata": {},
   "source": [
    "spam = 0\n",
    "if spam == 10:\n",
    "print('eggs')\n",
    "if spam > 5:\n",
    "print('bacon')\n",
    "else:\n",
    "print('ham')\n",
    "print('spam')\n",
    "print('spam')"
   ]
  },
  {
   "cell_type": "raw",
   "id": "c8f919df",
   "metadata": {},
   "source": [
    "In python, code block refers to a collection of code\n",
    "that is in the same block or indent.This is most commonly found in classes\n",
    "functions, and loops.\n",
    "\n",
    "Answers:\n",
    "    ham \n",
    "    \n",
    "    spam\n",
    "    \n",
    "    spam"
   ]
  },
  {
   "cell_type": "code",
   "execution_count": 13,
   "id": "e423d0c5",
   "metadata": {},
   "outputs": [
    {
     "name": "stdout",
     "output_type": "stream",
     "text": [
      "ham\n",
      "spam\n",
      "spam\n"
     ]
    }
   ],
   "source": [
    "spam = 0\n",
    "if spam == 10:\n",
    "    print('eggs') #block #1\n",
    "if spam > 5:\n",
    "    print('bacon') #block #2\n",
    "else:\n",
    "    print('ham')   #block #3\n",
    "print('spam')\n",
    "print('spam')"
   ]
  },
  {
   "cell_type": "markdown",
   "id": "1b3615bc",
   "metadata": {},
   "source": [
    "#### Write code that prints Hello if 1 is stored in spam, prints Howdy if 2 is stored in spam, and prints Greetings! if anything else is stored in spam."
   ]
  },
  {
   "cell_type": "code",
   "execution_count": 14,
   "id": "eb038335",
   "metadata": {},
   "outputs": [],
   "source": [
    "def spamCode(spam):\n",
    "    if spam == 1:\n",
    "        print('Hello')\n",
    "    elif spam == 2:\n",
    "        print('Howdy')\n",
    "    else:\n",
    "        print('Greetings')"
   ]
  },
  {
   "cell_type": "code",
   "execution_count": 16,
   "id": "007bb464",
   "metadata": {},
   "outputs": [
    {
     "name": "stdout",
     "output_type": "stream",
     "text": [
      "Howdy\n",
      "Greetings\n",
      "Hello\n"
     ]
    }
   ],
   "source": [
    "spamCode(2)\n",
    "spamCode(3)\n",
    "spamCode(1)"
   ]
  },
  {
   "cell_type": "markdown",
   "id": "af5f03c0",
   "metadata": {},
   "source": [
    "#### 9.If your programme is stuck in an endless loop, what keys you’ll press?"
   ]
  },
  {
   "cell_type": "markdown",
   "id": "39d6cab5",
   "metadata": {},
   "source": [
    "To stop a program stuck in an infinite loop,we press\n",
    "Control+C  and restart the kernel."
   ]
  },
  {
   "cell_type": "markdown",
   "id": "0480a5a8",
   "metadata": {},
   "source": [
    "#### 10. How can you tell the difference between break and continue?"
   ]
  },
  {
   "cell_type": "markdown",
   "id": "ec4c47f1",
   "metadata": {},
   "source": [
    "The break statement will move the execution outside the loop\n",
    "if break condition is satisfied whereas the continue statement will\n",
    "move the execution to start of the loop.\n",
    "Example of break and continue is mentioned below:"
   ]
  },
  {
   "cell_type": "code",
   "execution_count": 1,
   "id": "c4ccbf19",
   "metadata": {},
   "outputs": [
    {
     "name": "stdout",
     "output_type": "stream",
     "text": [
      "R\n",
      "a\n",
      "j\n",
      "e\n",
      "The end\n"
     ]
    }
   ],
   "source": [
    "# Use of break statement inside the loop\n",
    "\n",
    "for val in \"Rajesh\":\n",
    "    if val == \"s\":\n",
    "        break\n",
    "    print(val) \n",
    "print(\"The end\")    "
   ]
  },
  {
   "cell_type": "code",
   "execution_count": 3,
   "id": "ba786b74",
   "metadata": {},
   "outputs": [
    {
     "name": "stdout",
     "output_type": "stream",
     "text": [
      "R\n",
      "j\n",
      "e\n",
      "s\n",
      "h\n",
      "the end\n"
     ]
    }
   ],
   "source": [
    "# Program to show the use of continue statement inside loops\n",
    "\n",
    "for val in \"Rajesh\":\n",
    "    if val == \"a\":\n",
    "        continue\n",
    "    print(val)\n",
    "print(\"the end\")    \n",
    "        "
   ]
  },
  {
   "cell_type": "markdown",
   "id": "9afb9fbc",
   "metadata": {},
   "source": [
    "#### 11. In a for loop, what is the difference between range(10), range(0, 10), and range(0, 10, 1)?"
   ]
  },
  {
   "cell_type": "markdown",
   "id": "2c030118",
   "metadata": {},
   "source": [
    "#1.The range(10) call range from o to 9(but not include 10)\n",
    "#2.The range(0,10) explicitly tell the loop to start at 0\n",
    "#3.The range(0,10,1) explicitly tell the loop to increase the variable by 1 on each iteration."
   ]
  },
  {
   "cell_type": "code",
   "execution_count": 4,
   "id": "d226b8a4",
   "metadata": {},
   "outputs": [
    {
     "name": "stdout",
     "output_type": "stream",
     "text": [
      "0 1 2 3 4 5 6 7 8 9 "
     ]
    }
   ],
   "source": [
    "# printing a number\n",
    "for i in range(10):\n",
    "    print(i, end=\" \")"
   ]
  },
  {
   "cell_type": "code",
   "execution_count": 5,
   "id": "2c398fc0",
   "metadata": {},
   "outputs": [
    {
     "name": "stdout",
     "output_type": "stream",
     "text": [
      "Sum of numbers : 45\n"
     ]
    }
   ],
   "source": [
    "# performing sum of numbers\n",
    "sum = 0\n",
    "for i in range(0,10):\n",
    "    sum = sum + i\n",
    "print(\"Sum of numbers :\", sum)    "
   ]
  },
  {
   "cell_type": "code",
   "execution_count": 8,
   "id": "e76cecd1",
   "metadata": {},
   "outputs": [
    {
     "name": "stdout",
     "output_type": "stream",
     "text": [
      "Sum of numbers:  45\n"
     ]
    }
   ],
   "source": [
    "# performing sum of numbers\n",
    "\n",
    "sum =0\n",
    "for i in range(0,10,1):\n",
    "    sum = sum + i\n",
    "print(\"Sum of numbers: \",sum)    "
   ]
  },
  {
   "cell_type": "markdown",
   "id": "724cda5a",
   "metadata": {},
   "source": [
    "#### 12. Write a short program that prints the numbers 1 to 10 using a for loop. Then write an equivalent program that prints the numbers 1 to 10 using a while loop ?"
   ]
  },
  {
   "cell_type": "code",
   "execution_count": 21,
   "id": "fec87630",
   "metadata": {},
   "outputs": [
    {
     "name": "stdout",
     "output_type": "stream",
     "text": [
      ">>>>>>>>>> Using for loop >>>>>>>>>>\n",
      "1 2 3 4 5 6 7 8 9 10 \n",
      "\n",
      ">>>>>>>>>> Using while loop >>>>>>>>>>\n",
      "1 2 3 4 5 6 7 8 9 10 "
     ]
    }
   ],
   "source": [
    "print('>'*10,'Using for loop','>'*10)\n",
    "for i in range(1,11):\n",
    "    print(i, end=\" \")\n",
    "print('\\n') \n",
    "print('>'*10,'Using while loop', '>'*10)\n",
    "i = 1\n",
    "while i <= 10:\n",
    "    print(i, end=\" \")\n",
    "    i+=1"
   ]
  },
  {
   "cell_type": "markdown",
   "id": "3453f201",
   "metadata": {},
   "source": [
    "#### 13. If you had a function named bacon() inside a module named spam, how would you call it after importing spam ?"
   ]
  },
  {
   "cell_type": "markdown",
   "id": "1904024a",
   "metadata": {},
   "source": [
    " This function can be called with spam.bacon()"
   ]
  },
  {
   "cell_type": "code",
   "execution_count": null,
   "id": "e2c186a1",
   "metadata": {},
   "outputs": [],
   "source": []
  }
 ],
 "metadata": {
  "kernelspec": {
   "display_name": "Python 3 (ipykernel)",
   "language": "python",
   "name": "python3"
  },
  "language_info": {
   "codemirror_mode": {
    "name": "ipython",
    "version": 3
   },
   "file_extension": ".py",
   "mimetype": "text/x-python",
   "name": "python",
   "nbconvert_exporter": "python",
   "pygments_lexer": "ipython3",
   "version": "3.9.7"
  }
 },
 "nbformat": 4,
 "nbformat_minor": 5
}
