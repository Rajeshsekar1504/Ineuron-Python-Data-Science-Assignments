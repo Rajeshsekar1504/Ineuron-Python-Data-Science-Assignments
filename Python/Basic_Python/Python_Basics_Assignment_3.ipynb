{
 "cells": [
  {
   "cell_type": "markdown",
   "id": "a4e47e46",
   "metadata": {},
   "source": [
    "## Assignment -3 Solutions"
   ]
  },
  {
   "cell_type": "markdown",
   "id": "9c036ab5",
   "metadata": {},
   "source": [
    "Submitted by :\n",
    "   Rajesh S"
   ]
  },
  {
   "cell_type": "markdown",
   "id": "94536056",
   "metadata": {},
   "source": [
    "### 1. Why are functions advantageous to have in your programs?"
   ]
  },
  {
   "cell_type": "markdown",
   "id": "b654fb7d",
   "metadata": {},
   "source": [
    "Def:Functions are an essential part of most programming languages. Functions are reusable pieces of code that can be called using a function's name. Functions can be called anywhere in a Python program, including calling functions within other functions.\n",
    "\n",
    "   2.Functions provide a couple of benefits:\n",
    "\n",
    "   - Functions allow the same piece of code to run multiple times.\n",
    "   - Functions break long programs up into smaller components.\n",
    "   - Functions can be shared and used by other programmers."
   ]
  },
  {
   "cell_type": "markdown",
   "id": "f90ae81a",
   "metadata": {},
   "source": [
    "### 2. When does the code in a function run: when it's specified or when it's called?"
   ]
  },
  {
   "cell_type": "markdown",
   "id": "e61f683e",
   "metadata": {},
   "source": [
    "__Ans__: The code in a function executes when the function is called,not when the function\n",
    "is specified<br> \n",
    "When a function is \"called\" the program \"leaves\" the current section of code and begins to execute the first line inside the function.<br>"
   ]
  },
  {
   "cell_type": "code",
   "execution_count": 2,
   "id": "9429b5b9",
   "metadata": {},
   "outputs": [
    {
     "name": "stdout",
     "output_type": "stream",
     "text": [
      "Rajesh iNeuron\n",
      "Sudhanshu iNeuron\n",
      "Shivan Roy iNeuron\n"
     ]
    }
   ],
   "source": [
    "def my_fun(fname):\n",
    "    print(fname + \" iNeuron\")\n",
    "\n",
    "my_fun(\"Rajesh\")\n",
    "my_fun(\"Sudhanshu\")\n",
    "my_fun(\"Shivan Roy\")"
   ]
  },
  {
   "cell_type": "markdown",
   "id": "22d45ead",
   "metadata": {},
   "source": [
    "### 3.What statement creates a function?"
   ]
  },
  {
   "cell_type": "markdown",
   "id": "02b3fb20",
   "metadata": {},
   "source": [
    "__The def statement defines a function__\n",
    "\n",
    "__Syntax of Function:__"
   ]
  },
  {
   "cell_type": "markdown",
   "id": "aefe2454",
   "metadata": {},
   "source": [
    "def function_name(parameters):<br>\n",
    "            \"\"\"doc string\"\"\"<br>\n",
    "               ----function body---<br>\n",
    "                ----function body---<br>\n",
    "                return value<br>"
   ]
  },
  {
   "cell_type": "code",
   "execution_count": 5,
   "id": "45380e34",
   "metadata": {},
   "outputs": [
    {
     "name": "stdout",
     "output_type": "stream",
     "text": [
      "Rajesh iNeuron\n",
      "Sudhanshu iNeuron\n",
      "Shivan Roy iNeuron\n"
     ]
    }
   ],
   "source": [
    "def my_fun(fname):\n",
    "    print(fname + \" iNeuron\")\n",
    "\n",
    "my_fun(\"Rajesh\")\n",
    "my_fun(\"Sudhanshu\")\n",
    "my_fun(\"Shivan Roy\")"
   ]
  },
  {
   "cell_type": "markdown",
   "id": "abb2b521",
   "metadata": {},
   "source": [
    "### 4. What is the difference between a function and a function call?"
   ]
  },
  {
   "cell_type": "markdown",
   "id": "92da837e",
   "metadata": {},
   "source": [
    "__Ans:__ A function is a block of code the does a particular operation and returns a result.<br> It usually accepts inputs as parameters and<br> reurns a result. The parameters are not \n",
    "mandatory.<br> A function call is the code used to pass control to a function."
   ]
  },
  {
   "cell_type": "code",
   "execution_count": 6,
   "id": "a092a9e4",
   "metadata": {},
   "outputs": [
    {
     "data": {
      "text/plain": [
       "16"
      ]
     },
     "execution_count": 6,
     "metadata": {},
     "output_type": "execute_result"
    }
   ],
   "source": [
    "#creating a Function \n",
    "def square(x):\n",
    "    return x*x\n",
    "#Function call\n",
    "(square(4))"
   ]
  },
  {
   "cell_type": "markdown",
   "id": "3432508b",
   "metadata": {},
   "source": [
    "#### 5. How many global scopes are there in a Python program? How many local scopes?"
   ]
  },
  {
   "cell_type": "markdown",
   "id": "b663ddc2",
   "metadata": {},
   "source": [
    "__Ans__: There is one gloabal scope, and a local scope is created whenever a function is called.<br> A variable created inside a function belongs to the local scope of that function, and can only be used<br> inside that function whereas A variable created in the main body of the Python code is a global variable<br>\n",
    "and belongs to the global scope."
   ]
  },
  {
   "cell_type": "code",
   "execution_count": 7,
   "id": "0792548d",
   "metadata": {},
   "outputs": [
    {
     "name": "stdout",
     "output_type": "stream",
     "text": [
      "300\n"
     ]
    }
   ],
   "source": [
    "# Example of Local Scope\n",
    "def myfunc():\n",
    "    x = 300\n",
    "    def myinnerfunc():\n",
    "        print(x)\n",
    "    myinnerfunc()\n",
    "myfunc()   "
   ]
  },
  {
   "cell_type": "code",
   "execution_count": 8,
   "id": "5ff2432d",
   "metadata": {},
   "outputs": [
    {
     "name": "stdout",
     "output_type": "stream",
     "text": [
      "300\n",
      "300\n"
     ]
    }
   ],
   "source": [
    "#Example of Global Scope\n",
    "x = 300\n",
    "\n",
    "def myfunc():\n",
    "    print(x)\n",
    "myfunc()\n",
    "print(x)"
   ]
  },
  {
   "cell_type": "markdown",
   "id": "2e9651c1",
   "metadata": {},
   "source": [
    "#### 6. What happens to variables in a local scope when the function call returns?"
   ]
  },
  {
   "cell_type": "markdown",
   "id": "924ace91",
   "metadata": {},
   "source": [
    "__Ans__:When a function returns, the local scope is destroyed, and all the variables in it are forgotten. A local variable becomes undefined after the function call completes"
   ]
  },
  {
   "cell_type": "markdown",
   "id": "0bce4ae6",
   "metadata": {},
   "source": [
    "#### 7. What is the concept of a return value? Is it possible to have a return value in an expression?"
   ]
  },
  {
   "cell_type": "markdown",
   "id": "eae261a1",
   "metadata": {},
   "source": [
    "__Ans:__  The Python return statement is a key component of functions<br>\n",
    "and mehthods. We can use the return statement to make functions\n",
    "send python objects back to the caller code. These objects are known as the functions return value.<br> A return value is the value that a function call evaluates to.<br> Like any value,a return value can be used as part of an expression."
   ]
  },
  {
   "cell_type": "markdown",
   "id": "ed480d08",
   "metadata": {},
   "source": [
    "#### 8. If a function does not have a return statement, what is the return value of a call to that function"
   ]
  },
  {
   "cell_type": "markdown",
   "id": "17ec847c",
   "metadata": {},
   "source": [
    "__Ans:__ If there is no return statement for a function, its return value\n",
    "is None.The function always returns None if explicit return is not written."
   ]
  },
  {
   "cell_type": "markdown",
   "id": "8da85401",
   "metadata": {},
   "source": [
    "#### 9. How do you make a function variable refer to the global variable?"
   ]
  },
  {
   "cell_type": "markdown",
   "id": "3d184806",
   "metadata": {},
   "source": [
    "__Ans:__ A global statement will force a variable in a function to refer to the gloabl variable.\n",
    "    If you want to refer to a global variable in a function,you can use the global keyword to declare which \n",
    "    variables are global."
   ]
  },
  {
   "cell_type": "markdown",
   "id": "52336704",
   "metadata": {},
   "source": [
    "#### 10. What is the data type of None?"
   ]
  },
  {
   "cell_type": "markdown",
   "id": "09ed6f6f",
   "metadata": {},
   "source": [
    "__Ans:__ The data type of None is NoneType."
   ]
  },
  {
   "cell_type": "code",
   "execution_count": 14,
   "id": "25098b8d",
   "metadata": {},
   "outputs": [
    {
     "name": "stdout",
     "output_type": "stream",
     "text": [
      "None\n",
      "\n",
      "\n"
     ]
    },
    {
     "data": {
      "text/plain": [
       "NoneType"
      ]
     },
     "execution_count": 14,
     "metadata": {},
     "output_type": "execute_result"
    }
   ],
   "source": [
    "data = None\n",
    "print(data)\n",
    "print()\n",
    "type(print())"
   ]
  },
  {
   "cell_type": "markdown",
   "id": "950475a4",
   "metadata": {},
   "source": [
    "#### 11. What does the sentence import areallyourpetsnamederic do?"
   ]
  },
  {
   "cell_type": "markdown",
   "id": "759ce08b",
   "metadata": {},
   "source": [
    "__Ans__: Import statement imports a moudule named areallyourpetsnamederic."
   ]
  },
  {
   "cell_type": "markdown",
   "id": "65826177",
   "metadata": {},
   "source": [
    "#### 12. If you had a bacon() feature in a spam module, what would you call it after importing spam?"
   ]
  },
  {
   "cell_type": "markdown",
   "id": "3f9d1745",
   "metadata": {},
   "source": [
    "This function can be called  with spam.bacon()."
   ]
  },
  {
   "cell_type": "markdown",
   "id": "2794b3b2",
   "metadata": {},
   "source": [
    "#### 13. What can you do to save a programme from crashing if it encounters an error?"
   ]
  },
  {
   "cell_type": "markdown",
   "id": "75b93ba6",
   "metadata": {},
   "source": [
    "__Ans:__ We can place the line of code that might cause an error in a try clause and use except block to handle the error as \n",
    "    mentioned below:"
   ]
  },
  {
   "cell_type": "code",
   "execution_count": 16,
   "id": "501cba39",
   "metadata": {},
   "outputs": [
    {
     "name": "stdout",
     "output_type": "stream",
     "text": [
      "300\n"
     ]
    }
   ],
   "source": [
    "try:\n",
    "    print(x)\n",
    "except:\n",
    "    print(\"An exceptin occurred\")"
   ]
  },
  {
   "cell_type": "markdown",
   "id": "89e6cd45",
   "metadata": {},
   "source": [
    "#### 14. What is the purpose of the try clause? What is the purpose of the except clause?\n"
   ]
  },
  {
   "cell_type": "markdown",
   "id": "56c58ecf",
   "metadata": {},
   "source": [
    "Ans : The code that could potentially cause an error goes in the try clause. The code that executes if an error happens goes in the except clause."
   ]
  },
  {
   "cell_type": "code",
   "execution_count": 17,
   "id": "e2916d08",
   "metadata": {},
   "outputs": [
    {
     "name": "stdout",
     "output_type": "stream",
     "text": [
      "1000\n"
     ]
    }
   ],
   "source": [
    "x = 1000\n",
    "try:\n",
    "    print(x)\n",
    "except NameError:\n",
    "    print(\"Variable x is not defined\")\n",
    "except:\n",
    "    print(\"Something wrong\")"
   ]
  },
  {
   "cell_type": "code",
   "execution_count": null,
   "id": "bef4cbbe",
   "metadata": {},
   "outputs": [],
   "source": []
  }
 ],
 "metadata": {
  "kernelspec": {
   "display_name": "Python 3 (ipykernel)",
   "language": "python",
   "name": "python3"
  },
  "language_info": {
   "codemirror_mode": {
    "name": "ipython",
    "version": 3
   },
   "file_extension": ".py",
   "mimetype": "text/x-python",
   "name": "python",
   "nbconvert_exporter": "python",
   "pygments_lexer": "ipython3",
   "version": "3.9.7"
  }
 },
 "nbformat": 4,
 "nbformat_minor": 5
}
