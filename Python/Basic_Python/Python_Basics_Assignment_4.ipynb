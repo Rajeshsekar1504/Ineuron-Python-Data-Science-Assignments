{
 "cells": [
  {
   "cell_type": "markdown",
   "id": "443d763e",
   "metadata": {},
   "source": [
    "# Assignment 4 Solutions\n",
    "SUBMITTED BY: Rajesh S"
   ]
  },
  {
   "cell_type": "markdown",
   "id": "1f2e6357",
   "metadata": {},
   "source": [
    "#### 1.What exactly is [ ]?"
   ]
  },
  {
   "cell_type": "markdown",
   "id": "7244c4d3",
   "metadata": {},
   "source": [
    "__Ans:__ The empty list represented by [] is a list that contains no items.\n",
    "    this is similiar to ' 'which represents an empty string"
   ]
  },
  {
   "cell_type": "code",
   "execution_count": 2,
   "id": "26980e2f",
   "metadata": {},
   "outputs": [
    {
     "name": "stdout",
     "output_type": "stream",
     "text": [
      "Values of a:  []\n",
      "Type of a: <class 'list'>\n",
      "Size of a:  0\n"
     ]
    }
   ],
   "source": [
    "#Python program to declare empty list\n",
    "\n",
    "a = [] #list declared\n",
    "print(\"Values of a: \", a)\n",
    "print(\"Type of a:\", type(a))\n",
    "print(\"Size of a: \", len(a))"
   ]
  },
  {
   "cell_type": "markdown",
   "id": "437d32d2",
   "metadata": {},
   "source": [
    "#### 2.In a list of values stored in a variable called spam, how would you assign the value 'hello' as the third value? (Assume [2, 4, 6, 8, 10] are in spam.)"
   ]
  },
  {
   "cell_type": "markdown",
   "id": "0ee67cf1",
   "metadata": {},
   "source": [
    "__Ans__: spam[2] = 'hello'"
   ]
  },
  {
   "cell_type": "code",
   "execution_count": 4,
   "id": "46d2b385",
   "metadata": {},
   "outputs": [
    {
     "name": "stdout",
     "output_type": "stream",
     "text": [
      "[2, 4, 6, 8, 10]\n",
      "[2, 4, 'hello', 8, 10]\n"
     ]
    }
   ],
   "source": [
    "#Example\n",
    "spam =[2,4,6,8,10]\n",
    "print(spam)\n",
    "spam[2] ='hello' #list uses zero based indexing\n",
    "print(spam)"
   ]
  },
  {
   "cell_type": "markdown",
   "id": "a615100c",
   "metadata": {},
   "source": [
    "#### Let's pretend the spam includes the list ['a', 'b', 'c', 'd'] for the next three queries"
   ]
  },
  {
   "cell_type": "markdown",
   "id": "8bb463c5",
   "metadata": {},
   "source": [
    "### 3. What is the value of spam[int(int('3'*2)//11)] ?"
   ]
  },
  {
   "cell_type": "markdown",
   "id": "95d628b6",
   "metadata": {},
   "source": [
    "__Ans__: 'd '('3' * 2 is the string '33', which is passed to int() before being divided by 11.This eventually evalutes to 3, spam[3] is equal to d.)"
   ]
  },
  {
   "cell_type": "code",
   "execution_count": 8,
   "id": "0157c20e",
   "metadata": {},
   "outputs": [
    {
     "name": "stdout",
     "output_type": "stream",
     "text": [
      "spam[int(int('3'*2)//11)] -> d\n"
     ]
    }
   ],
   "source": [
    "spam = ['a','b','c','d']\n",
    "print(\"spam[int(int('3'*2)//11)] ->\",spam[int(int('3'*2)//11)])"
   ]
  },
  {
   "cell_type": "markdown",
   "id": "b69ba6fa",
   "metadata": {},
   "source": [
    "#### 4. What is the value of spam[-1]?"
   ]
  },
  {
   "cell_type": "markdown",
   "id": "0eddc2f9",
   "metadata": {},
   "source": [
    "__Ans:__ 'd'(Lists support Negative indexing, Hence spam[-1]\n",
    " returns 'd'). -1 index returns last item of the list"
   ]
  },
  {
   "cell_type": "code",
   "execution_count": 9,
   "id": "506d16b6",
   "metadata": {},
   "outputs": [
    {
     "name": "stdout",
     "output_type": "stream",
     "text": [
      "spam[-1] ->  d\n"
     ]
    }
   ],
   "source": [
    "spam = ['a','b','c','d']\n",
    "print('spam[-1] -> ',spam[-1])"
   ]
  },
  {
   "cell_type": "markdown",
   "id": "8868310e",
   "metadata": {},
   "source": [
    "#### 5. What is the value of spam[:2]?"
   ]
  },
  {
   "cell_type": "markdown",
   "id": "65ce566a",
   "metadata": {},
   "source": [
    "__Ans:__ spam[:2] returns all elements in the list spam from 0 to 2\n",
    "    excluding 2"
   ]
  },
  {
   "cell_type": "code",
   "execution_count": 10,
   "id": "0ed25f39",
   "metadata": {},
   "outputs": [
    {
     "name": "stdout",
     "output_type": "stream",
     "text": [
      "['a', 'b', 'c', 'd']\n",
      "['a', 'b']\n"
     ]
    }
   ],
   "source": [
    "print(spam)\n",
    "print(spam[:2])"
   ]
  },
  {
   "cell_type": "markdown",
   "id": "e09b4ff4",
   "metadata": {},
   "source": [
    "## Let's pretend bacon has the list [3.14,'cat',11,'cat',True] for the next three question"
   ]
  },
  {
   "cell_type": "markdown",
   "id": "8958bb5b",
   "metadata": {},
   "source": [
    "#### 6. What is the value of bacon.index('cat')?"
   ]
  },
  {
   "cell_type": "markdown",
   "id": "3f2d30aa",
   "metadata": {},
   "source": [
    "The value of bacon.index('cat') is 1 (index method returns the index of first occurrence of 'cat')"
   ]
  },
  {
   "cell_type": "code",
   "execution_count": 11,
   "id": "c3022356",
   "metadata": {},
   "outputs": [],
   "source": [
    "bacon = [3.14, 'cat', 11, 'cat', True]"
   ]
  },
  {
   "cell_type": "code",
   "execution_count": 12,
   "id": "28386797",
   "metadata": {},
   "outputs": [
    {
     "name": "stdout",
     "output_type": "stream",
     "text": [
      "bacon.index('cat') -> 1\n"
     ]
    }
   ],
   "source": [
    "print(\"bacon.index('cat') ->\", bacon.index('cat'))"
   ]
  },
  {
   "cell_type": "markdown",
   "id": "4d6c92d0",
   "metadata": {},
   "source": [
    "#### 7. How does bacon.append(99) change the look of the list value in bacon?"
   ]
  },
  {
   "cell_type": "markdown",
   "id": "944a82fb",
   "metadata": {},
   "source": [
    "__Ans:__ The append method adds new elements to the end of the list"
   ]
  },
  {
   "cell_type": "code",
   "execution_count": 13,
   "id": "d4ab6104",
   "metadata": {},
   "outputs": [
    {
     "name": "stdout",
     "output_type": "stream",
     "text": [
      "[3.14, 'cat', 11, 'cat', True]\n",
      "[3.14, 'cat', 11, 'cat', True, 99]\n"
     ]
    }
   ],
   "source": [
    "#Example\n",
    "print(bacon)\n",
    "bacon.append(99) # appends 99 to the end of the list\n",
    "print(bacon)"
   ]
  },
  {
   "cell_type": "markdown",
   "id": "618f7403",
   "metadata": {},
   "source": [
    "#### 8. How does bacon.remove('cat') change the look of the list in bacon?"
   ]
  },
  {
   "cell_type": "markdown",
   "id": "e78bde09",
   "metadata": {},
   "source": [
    "__Ans:__ The remove method removes the occurrence of the element of the list"
   ]
  },
  {
   "cell_type": "code",
   "execution_count": 16,
   "id": "2b885c42",
   "metadata": {},
   "outputs": [
    {
     "name": "stdout",
     "output_type": "stream",
     "text": [
      "[3.14, 'cat', 11, 'cat', True, 99]\n",
      "[3.14, 11, 'cat', True, 99]\n"
     ]
    }
   ],
   "source": [
    "print(bacon)\n",
    "bacon.remove('cat')\n",
    "print(bacon)"
   ]
  },
  {
   "cell_type": "markdown",
   "id": "ce03168d",
   "metadata": {},
   "source": [
    "#### 9.what are the list concatenation and list replication operations?"
   ]
  },
  {
   "cell_type": "markdown",
   "id": "9fe68aba",
   "metadata": {},
   "source": [
    "__Ans__: The operator for list concatenation is +, while the operator for replication is *.(This is the same as for strings.)"
   ]
  },
  {
   "cell_type": "code",
   "execution_count": 17,
   "id": "364336e1",
   "metadata": {},
   "outputs": [
    {
     "name": "stdout",
     "output_type": "stream",
     "text": [
      "['ML', 'DL', 'AI', 'CV', 'NLP', 'RNN', 'CNN', 'SVN']\n",
      "['RNN', 'CNN', 'SVN', 'RNN', 'CNN', 'SVN']\n"
     ]
    }
   ],
   "source": [
    "#Example\n",
    "list_1 = ['ML','DL','AI','CV','NLP']\n",
    "list_2 = ['RNN','CNN', 'SVN']\n",
    "print(list_1 + list_2) # list Concatenation\n",
    "print(list_2*2) # List Replication"
   ]
  },
  {
   "cell_type": "markdown",
   "id": "23c53002",
   "metadata": {},
   "source": [
    "### 10.what is the difference between the list method append() and insert()?"
   ]
  },
  {
   "cell_type": "markdown",
   "id": "86b73e67",
   "metadata": {},
   "source": [
    "__Ans__: While append() will add values to the end of the list , isert() can add the value anywhere in the list."
   ]
  },
  {
   "cell_type": "code",
   "execution_count": 18,
   "id": "91205f5d",
   "metadata": {},
   "outputs": [
    {
     "name": "stdout",
     "output_type": "stream",
     "text": [
      "[1, 2, 3, 4, 5, 100]\n",
      "[1, 2, 'iNeuron', 3, 4, 5, 100]\n"
     ]
    }
   ],
   "source": [
    "list = [1,2,3,4,5]\n",
    "list.append(100)\n",
    "print(list)\n",
    "list.insert(2,'iNeuron')\n",
    "print(list)"
   ]
  },
  {
   "cell_type": "markdown",
   "id": "32181df1",
   "metadata": {},
   "source": [
    "#### 11. What are the two methods for removing items from a list?"
   ]
  },
  {
   "cell_type": "markdown",
   "id": "b8928a76",
   "metadata": {},
   "source": [
    "The __del__ statement and the __remove()__ method are two ways to remove values from a list."
   ]
  },
  {
   "cell_type": "code",
   "execution_count": null,
   "id": "f2a1a25d",
   "metadata": {},
   "outputs": [],
   "source": [
    "# assign list"
   ]
  },
  {
   "cell_type": "code",
   "execution_count": 22,
   "id": "c8f354fa",
   "metadata": {},
   "outputs": [
    {
     "data": {
      "text/plain": [
       "[1, 2, 2, 3, 4, 5]"
      ]
     },
     "execution_count": 22,
     "metadata": {},
     "output_type": "execute_result"
    }
   ],
   "source": [
    "numbers = [1,2,3,2,3,4,5]\n",
    "#use del\n",
    "del numbers[2]\n",
    "numbers"
   ]
  },
  {
   "cell_type": "code",
   "execution_count": 23,
   "id": "29992051",
   "metadata": {},
   "outputs": [
    {
     "data": {
      "text/plain": [
       "[1, 2, 2, 3, 4, 5]"
      ]
     },
     "execution_count": 23,
     "metadata": {},
     "output_type": "execute_result"
    }
   ],
   "source": [
    "#2nd way\n",
    "numbers1 = [1,2,3,2,3,4,5]\n",
    "\n",
    "#Use remove()\n",
    "numbers1.remove(3)\n",
    "\n",
    "numbers1"
   ]
  },
  {
   "cell_type": "markdown",
   "id": "4ff2ba5d",
   "metadata": {},
   "source": [
    "#### 12. Describe how list values and string values are identical."
   ]
  },
  {
   "cell_type": "markdown",
   "id": "c3248fb4",
   "metadata": {},
   "source": [
    "__Ans__: Below are some reasons how list values and string values are identical:<br>\n",
    "        1.Both lists and strings can be passed to __len()__ function<br>\n",
    "        2.Have indexes and slices, be used in __for__ loops,<br>\n",
    "        3.Can be concatenated or replicated<br>\n",
    "        4.Can be used with the __in__ and __not in__ operators."
   ]
  },
  {
   "cell_type": "markdown",
   "id": "edd57c18",
   "metadata": {},
   "source": [
    "#### 13. What's the difference between tuples and lists?"
   ]
  },
  {
   "cell_type": "markdown",
   "id": "8f4464b4",
   "metadata": {},
   "source": [
    "__Ans__: Lists are __Mutable__, __Indexable__ and __Slicable__.<br>.They can have values added,removed, or changed.<br>\n",
    "    Tuples are __Immutable__ but __Indexable__ and __Slicable__<br> The tuple values can not be changed at all.<br> Also, tuples are represented using parenthesis (),<br> while lists use the square brackets,__[]__"
   ]
  },
  {
   "cell_type": "code",
   "execution_count": 25,
   "id": "97203a28",
   "metadata": {},
   "outputs": [
    {
     "name": "stdout",
     "output_type": "stream",
     "text": [
      "[1, 2, 3, 4]\n",
      "(1, 2, 3, 4)\n"
     ]
    }
   ],
   "source": [
    "list = [1,2,3,4]\n",
    "tup  =(1,2,3,4)\n",
    "print(list)\n",
    "print(tup)"
   ]
  },
  {
   "cell_type": "markdown",
   "id": "9d32ab9d",
   "metadata": {},
   "source": [
    "#### 14. How do you type a tuple value that only contains the integer 42?"
   ]
  },
  {
   "cell_type": "markdown",
   "id": "01046551",
   "metadata": {},
   "source": [
    "__Ans__: The tuple() and list() functions, respectively are used to convert a list to tuple and vice versa."
   ]
  },
  {
   "cell_type": "code",
   "execution_count": 27,
   "id": "047ef4da",
   "metadata": {},
   "outputs": [
    {
     "name": "stdout",
     "output_type": "stream",
     "text": [
      "<class 'int'>\n",
      "<class 'tuple'>\n",
      "(42,)\n"
     ]
    }
   ],
   "source": [
    "tup1 =(42)\n",
    "tup2 =(42,)\n",
    "tup3  = 42,\n",
    "print(type(tup1))\n",
    "print(type(tup2))\n",
    "print(type(tup3))"
   ]
  },
  {
   "cell_type": "markdown",
   "id": "277efef0",
   "metadata": {},
   "source": [
    "### 16. Variables that \"contain\" list values are not necessarily lists themselves. Instead, what do they contain?"
   ]
  },
  {
   "cell_type": "markdown",
   "id": "9fb42ae2",
   "metadata": {},
   "source": [
    "__Ans__: They contain references to list values."
   ]
  },
  {
   "cell_type": "markdown",
   "id": "934a4ec4",
   "metadata": {},
   "source": [
    "#### 17. How do you distinguish between copy.copy() and copy.deepcopy()?"
   ]
  },
  {
   "cell_type": "markdown",
   "id": "5daebaa8",
   "metadata": {},
   "source": [
    "__Ans:__ The __copy.copy()__ function will do a shallow copy of a list,<br>\n",
    "    while the __copy.deepcopy()__ function will do a deep copy of a list.<br>\n",
    "    That is, only __copy.deepcopy()__ will duplicate any lists inside the list."
   ]
  },
  {
   "cell_type": "code",
   "execution_count": 29,
   "id": "386e4524",
   "metadata": {},
   "outputs": [],
   "source": [
    "# importing copy module \n",
    "import copy\n",
    "# initializing list 1\n",
    "lis1 = [1,2,[3,5], 4]\n",
    "\n",
    "\n",
    "#using copy for shallow copy\n",
    "lis2 = copy.copy(lis1)\n",
    "\n",
    "#Using deepcopy for deepcopy\n",
    "lis3 = copy.deepcopy(lis1)"
   ]
  },
  {
   "cell_type": "code",
   "execution_count": 30,
   "id": "e6ca49c0",
   "metadata": {},
   "outputs": [
    {
     "name": "stdout",
     "output_type": "stream",
     "text": [
      "[1, 2, [3, 5], 4]\n"
     ]
    }
   ],
   "source": [
    "print(lis2)"
   ]
  },
  {
   "cell_type": "code",
   "execution_count": 31,
   "id": "4014a61c",
   "metadata": {},
   "outputs": [
    {
     "name": "stdout",
     "output_type": "stream",
     "text": [
      "[1, 2, [3, 5], 4]\n"
     ]
    }
   ],
   "source": [
    "print(lis3)"
   ]
  },
  {
   "cell_type": "code",
   "execution_count": null,
   "id": "f471e0db",
   "metadata": {},
   "outputs": [],
   "source": []
  }
 ],
 "metadata": {
  "kernelspec": {
   "display_name": "Python 3 (ipykernel)",
   "language": "python",
   "name": "python3"
  },
  "language_info": {
   "codemirror_mode": {
    "name": "ipython",
    "version": 3
   },
   "file_extension": ".py",
   "mimetype": "text/x-python",
   "name": "python",
   "nbconvert_exporter": "python",
   "pygments_lexer": "ipython3",
   "version": "3.9.7"
  }
 },
 "nbformat": 4,
 "nbformat_minor": 5
}
