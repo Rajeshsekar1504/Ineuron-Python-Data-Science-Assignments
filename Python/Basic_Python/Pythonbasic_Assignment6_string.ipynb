{
  "nbformat": 4,
  "nbformat_minor": 0,
  "metadata": {
    "colab": {
      "name": "Pythonbasic_Assignment6_string.ipynb",
      "provenance": [],
      "collapsed_sections": []
    },
    "kernelspec": {
      "name": "python3",
      "display_name": "Python 3"
    },
    "language_info": {
      "name": "python"
    }
  },
  "cells": [
    {
      "cell_type": "markdown",
      "source": [
        "### Assignment 6 Solutions\n",
        "\n",
        "**Submitted by : Rajesh S**"
      ],
      "metadata": {
        "id": "QdZaYiVXdkSx"
      }
    },
    {
      "cell_type": "markdown",
      "source": [
        "**1.What are Escape characters ? and how do you use them ?**"
      ],
      "metadata": {
        "id": "-9udtw7Ffiqp"
      }
    },
    {
      "cell_type": "markdown",
      "source": [
        "__Ans:__ Escape characters represent characters in string values that would otherwise be difficult or impossible to type into code. we can use the backslash character to escape a single character or symbol\n",
        "\n",
        "__Example:__ **\\t, \\n**"
      ],
      "metadata": {
        "id": "YCS0KAZfkhF-"
      }
    },
    {
      "cell_type": "code",
      "source": [
        "txt = \"We are the so-called \\\"Pythonist\\\" from India.\"\n",
        "txt"
      ],
      "metadata": {
        "colab": {
          "base_uri": "https://localhost:8080/",
          "height": 35
        },
        "id": "UJgl0yj1kvd2",
        "outputId": "17734b10-53d7-448f-9054-7d5ce614d297"
      },
      "execution_count": 1,
      "outputs": [
        {
          "output_type": "execute_result",
          "data": {
            "text/plain": [
              "'We are the so-called \"Pythonist\" from India.'"
            ],
            "application/vnd.google.colaboratory.intrinsic+json": {
              "type": "string"
            }
          },
          "metadata": {},
          "execution_count": 1
        }
      ]
    },
    {
      "cell_type": "markdown",
      "source": [
        "**2.What do the escape characters n and t stand for ?**"
      ],
      "metadata": {
        "id": "6G3naKf3lv9s"
      }
    },
    {
      "cell_type": "markdown",
      "source": [
        "__Ans:__ \\n is a newline, \\t is a tab"
      ],
      "metadata": {
        "id": "sVg44mhvl7Ez"
      }
    },
    {
      "cell_type": "code",
      "source": [
        "txt = \"Hello\\nPython!\"\n",
        "print(txt) \n",
        "\n",
        "txt1 = \"Hello\\tPython!\"\n",
        "print(txt1) "
      ],
      "metadata": {
        "colab": {
          "base_uri": "https://localhost:8080/"
        },
        "id": "gSfdGjafmyz7",
        "outputId": "d2aaf783-78cb-4d01-88d9-13efe78b2983"
      },
      "execution_count": 3,
      "outputs": [
        {
          "output_type": "stream",
          "name": "stdout",
          "text": [
            "Hello\n",
            "Python!\n",
            "Hello\tPython!\n"
          ]
        }
      ]
    },
    {
      "cell_type": "markdown",
      "source": [
        "**3.What is the way to include backslash character in a string?**"
      ],
      "metadata": {
        "id": "PsW-J8kenTRj"
      }
    },
    {
      "cell_type": "markdown",
      "source": [
        " Ans: The \\\\\\ escape character will represent the backslash character in a string"
      ],
      "metadata": {
        "id": "ILhGo9e3oP9U"
      }
    },
    {
      "cell_type": "code",
      "source": [
        "#Example\n",
        "txt = \"Python is easiest programming language \\\\ (backslash).\"\n",
        "print(txt)"
      ],
      "metadata": {
        "colab": {
          "base_uri": "https://localhost:8080/"
        },
        "id": "mvgpkajMob_4",
        "outputId": "130569bf-a179-4d7c-9a61-5e284cfd6025"
      },
      "execution_count": 6,
      "outputs": [
        {
          "output_type": "stream",
          "name": "stdout",
          "text": [
            "Python is easiest programming language \\ (backslash).\n"
          ]
        }
      ]
    },
    {
      "cell_type": "markdown",
      "source": [
        "**4.The string \"Howl's Moving Castle\" is a correct value. Why isn't the single quote character in the word Howl's not escaped a problem ?**"
      ],
      "metadata": {
        "id": "JbpNqMEapAsL"
      }
    },
    {
      "cell_type": "markdown",
      "source": [
        "__Ans:__ The string \"Howl's Moving Castle\" escaped the problem because it is wrapped inside double quotes. if its wrapped inside single quotes then we have to use escape character \\' to show single quote in the final output<br>\n",
        "'Howl\\'s Moving Castle' -> 'Howl's Moving Castle'"
      ],
      "metadata": {
        "id": "7_h7QnUtpvS0"
      }
    },
    {
      "cell_type": "markdown",
      "source": [
        "**5.How do you write a string of newlines if you don't want to use the n character?**"
      ],
      "metadata": {
        "id": "UcNjKoICqMcC"
      }
    },
    {
      "cell_type": "markdown",
      "source": [
        "__Ans:__ Multiline string allow you to use newlines in string without the \\n escape character."
      ],
      "metadata": {
        "id": "BDVBR1G7srz0"
      }
    },
    {
      "cell_type": "code",
      "source": [
        "data = '''Data science in\n",
        "iNeuron Awesome'''\n",
        "print(data)         "
      ],
      "metadata": {
        "colab": {
          "base_uri": "https://localhost:8080/"
        },
        "id": "D_yt7WRus-Gf",
        "outputId": "b646f6e0-4039-423b-82d7-aa21de338c9e"
      },
      "execution_count": 10,
      "outputs": [
        {
          "output_type": "stream",
          "name": "stdout",
          "text": [
            "Data science in\n",
            "iNeuron Awesome\n"
          ]
        }
      ]
    },
    {
      "cell_type": "markdown",
      "source": [
        "'Hello, world!'[1]<br>\n",
        "'Hello, world!'[0:5]<br>\n",
        "'Hello, world!'[:5]<br>\n",
        "'Hello, world!'[3:]<br>"
      ],
      "metadata": {
        "id": "FjJBklTPuwOp"
      }
    },
    {
      "cell_type": "code",
      "source": [
        ""
      ],
      "metadata": {
        "id": "OEoxQZ0uwDx-"
      },
      "execution_count": null,
      "outputs": []
    },
    {
      "cell_type": "markdown",
      "source": [
        "**Ans:** The values for the given expressions are:<br>\n",
        "'Hello, world!'[1] --> 'e'<br>\n",
        "'Hello, world!'[0:5] --> 'Hello'<br>\n",
        "'Hello, world!'[:5] --> 'Hello'<br>\n",
        "'Hello, world!'[3:] --> 'lo, world!'<br>"
      ],
      "metadata": {
        "id": "eVWGstFUwOhB"
      }
    },
    {
      "cell_type": "markdown",
      "source": [
        "**7.What are the values of the following expressions ?**"
      ],
      "metadata": {
        "id": "Co5SSR73wpJY"
      }
    },
    {
      "cell_type": "markdown",
      "source": [
        "7.What are the values of the following expressions ?<br>\n",
        "'Hello'.upper()<br>\n",
        "'Hello'.upper().isupper()<br>\n",
        "'Hello'.upper().lower()<br>"
      ],
      "metadata": {
        "id": "_aPVmn0Lw0XH"
      }
    },
    {
      "cell_type": "markdown",
      "source": [
        "**Ans:** The values for the given expressions are:<br>\n",
        "'Hello'.upper() -> 'HELLO'<br>\n",
        "'Hello'.upper().isupper() -> True<br>\n",
        "'Hello'.upper().lower() -> 'hello'<br>"
      ],
      "metadata": {
        "id": "gFXqxLuAxCK1"
      }
    },
    {
      "cell_type": "markdown",
      "source": [
        "**8.What are the values of the following expressions ?**"
      ],
      "metadata": {
        "id": "FIrv_qdzxP_c"
      }
    },
    {
      "cell_type": "markdown",
      "source": [
        "'Remember, remember, the fifith of July.'.split()\n",
        "-'.join('There can only one'.split())"
      ],
      "metadata": {
        "id": "2UFqb1GIxggw"
      }
    },
    {
      "cell_type": "code",
      "source": [
        "'Remember, remember, the fifith of July.'.split()"
      ],
      "metadata": {
        "colab": {
          "base_uri": "https://localhost:8080/"
        },
        "id": "WKZ32VfCxygY",
        "outputId": "4763ef62-5e8c-4afb-a33b-24cde6f30b45"
      },
      "execution_count": 24,
      "outputs": [
        {
          "output_type": "execute_result",
          "data": {
            "text/plain": [
              "['Remember,', 'remember,', 'the', 'fifith', 'of', 'July.']"
            ]
          },
          "metadata": {},
          "execution_count": 24
        }
      ]
    },
    {
      "cell_type": "code",
      "source": [
        "'-'.join('There can only one'.split())"
      ],
      "metadata": {
        "colab": {
          "base_uri": "https://localhost:8080/",
          "height": 35
        },
        "id": "oDmXnuoTxznF",
        "outputId": "d0cc3b96-0318-4fd1-aa14-0d4005caddf6"
      },
      "execution_count": 25,
      "outputs": [
        {
          "output_type": "execute_result",
          "data": {
            "text/plain": [
              "'There-can-only-one'"
            ],
            "application/vnd.google.colaboratory.intrinsic+json": {
              "type": "string"
            }
          },
          "metadata": {},
          "execution_count": 25
        }
      ]
    },
    {
      "cell_type": "markdown",
      "source": [
        "**9.What are the methods for right-justifying, left-justifying and centering a string ?**"
      ],
      "metadata": {
        "id": "C4AZsgpIzvwp"
      }
    },
    {
      "cell_type": "markdown",
      "source": [
        "__Ans:__ The rjust(),ljust(),center() string methods respectively\n",
        "\n",
        "str.ljust(s, width[, fillchar])<br>\n",
        "\n",
        "str.rjust(s, width[, fillchar])<br>\n",
        "\n",
        "str.center(s, width[, fillchar])<br>"
      ],
      "metadata": {
        "id": "noIVTqqoz4V4"
      }
    },
    {
      "cell_type": "markdown",
      "source": [
        "**10.What is the best way to remove whitespace characters from the start or end ?**"
      ],
      "metadata": {
        "id": "mLxOypZh0ckU"
      }
    },
    {
      "cell_type": "code",
      "source": [
        "# using strip() to delete all '-'\n",
        "print ( \" String after stripping all '-' is : \", end=\"\")\n",
        "print ( str.strip('-') )\n",
        " \n",
        "# using lstrip() to delete all trailing '-'\n",
        "print ( \" String after stripping all leading '-' is : \", end=\"\")\n",
        "print ( str.lstrip('-') )\n",
        " \n",
        "# using rstrip() to delete all leading '-'\n",
        "print ( \" String after stripping all trailing '-' is : \", end=\"\")\n",
        "print ( str.rstrip('-') )"
      ],
      "metadata": {
        "colab": {
          "base_uri": "https://localhost:8080/"
        },
        "id": "JXeMIsZ_z0UX",
        "outputId": "a6011c1c-460d-4880-c0b8-adffea804478"
      },
      "execution_count": 26,
      "outputs": [
        {
          "output_type": "stream",
          "name": "stdout",
          "text": [
            " String after stripping all '-' is : -\n",
            " String after stripping all leading '-' is : -\n",
            " String after stripping all trailing '-' is : -\n"
          ]
        }
      ]
    },
    {
      "cell_type": "code",
      "source": [
        ""
      ],
      "metadata": {
        "id": "qQAMvH_90h4N"
      },
      "execution_count": null,
      "outputs": []
    }
  ]
}